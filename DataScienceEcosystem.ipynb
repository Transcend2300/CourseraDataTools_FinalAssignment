{
 "cells": [
  {
   "cell_type": "markdown",
   "id": "f10bb740-8782-450c-9571-07bcc9f7c7c0",
   "metadata": {},
   "source": [
    "# Data Science Tools and Ecosystem"
   ]
  },
  {
   "cell_type": "markdown",
   "id": "edcc492d-f0a5-41c0-9628-1eef465fbd13",
   "metadata": {},
   "source": [
    "## In this notebook, Data Science Tools and Ecosystem are summarized."
   ]
  },
  {
   "cell_type": "markdown",
   "id": "2392d5de-65b6-4664-8428-ff139ecefc3b",
   "metadata": {},
   "source": [
    "## Objectives\n",
    "\n",
    "*Popular languages used by Data Scientists\n",
    "\n",
    "*Common libraries used by Data Scientists\n",
    "\n",
    "*Common Data Science tools\n",
    "\n",
    "*Examples of arithmetic calculations using Python"
   ]
  },
  {
   "cell_type": "markdown",
   "id": "af690146-a9a1-40d2-b943-6d0bf51b64ff",
   "metadata": {
    "tags": []
   },
   "source": [
    "## Some of the popular languages that Data Scientists use are:\n",
    "\n",
    "1. R\n",
    "2. Python\n",
    "3. SQL\n",
    "4. Scala\n",
    "5. Julia"
   ]
  },
  {
   "cell_type": "markdown",
   "id": "81dc3f68-02b0-48e1-b326-a75d221f90aa",
   "metadata": {},
   "source": [
    "## Some of the commonly used libraries used by Data Scientists include:\n",
    "\n",
    "1. Pandas\n",
    "2. NumPy\n",
    "3. Matplotlib\n",
    "4. Seaborn\n",
    "5. Scikit-learn\n",
    "6. TensorFlow\n",
    "7. ggplot2"
   ]
  },
  {
   "cell_type": "markdown",
   "id": "e22db26a-fd44-4ae7-9d06-ade09818c5b8",
   "metadata": {},
   "source": [
    "| Data Science Tools |\n",
    "|--------------------|\n",
    "|Juypter Notebook|\n",
    "|JupyterLab|\n",
    "|RStudio|"
   ]
  },
  {
   "cell_type": "markdown",
   "id": "d0d7e30c-566c-4090-930d-50a3991d6f2c",
   "metadata": {},
   "source": [
    "### Below are a few examples of evaluating arithmetic expressions in Python."
   ]
  },
  {
   "cell_type": "code",
   "execution_count": 2,
   "id": "d1a3a2ea-da9f-4c9c-8134-83ce37f726cb",
   "metadata": {
    "tags": []
   },
   "outputs": [
    {
     "data": {
      "text/plain": [
       "17"
      ]
     },
     "execution_count": 2,
     "metadata": {},
     "output_type": "execute_result"
    }
   ],
   "source": [
    "# This is a simple arithmetic expression to muliply then add integers.\n",
    "\n",
    "(3*4)+5"
   ]
  },
  {
   "cell_type": "code",
   "execution_count": 3,
   "id": "67a86b75-f419-41c1-ab67-ab3e4f4f144c",
   "metadata": {
    "tags": []
   },
   "outputs": [
    {
     "data": {
      "text/plain": [
       "3.3333333333333335"
      ]
     },
     "execution_count": 3,
     "metadata": {},
     "output_type": "execute_result"
    }
   ],
   "source": [
    "# This will convert 200 minutes to hours by diving by 60.\n",
    "\n",
    "200 / 60"
   ]
  },
  {
   "cell_type": "markdown",
   "id": "bf83fae0-0110-44d8-b03f-a12362a66c54",
   "metadata": {},
   "source": [
    "## Author\n",
    "\n",
    "Ryan T."
   ]
  },
  {
   "cell_type": "code",
   "execution_count": null,
   "id": "2c0f78b2-741e-4c5f-aaeb-80be90af454a",
   "metadata": {},
   "outputs": [],
   "source": []
  }
 ],
 "metadata": {
  "kernelspec": {
   "display_name": "Python 3 (ipykernel)",
   "language": "python",
   "name": "python3"
  },
  "language_info": {
   "codemirror_mode": {
    "name": "ipython",
    "version": 3
   },
   "file_extension": ".py",
   "mimetype": "text/x-python",
   "name": "python",
   "nbconvert_exporter": "python",
   "pygments_lexer": "ipython3",
   "version": "3.11.3"
  }
 },
 "nbformat": 4,
 "nbformat_minor": 5
}
